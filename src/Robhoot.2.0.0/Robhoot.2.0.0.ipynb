{
 "cells": [
  {
   "cell_type": "code",
   "execution_count": null,
   "id": "783f560f",
   "metadata": {},
   "outputs": [],
   "source": [
    "\"\"\"\"\n",
    "# Robhoot.2.0.0\n",
    "# Julia Install packages \n",
    "# Version 1.7.1 (2021-12-22)\n",
    "# Official https://julialang.org/ release\n",
    "\n",
    "# init.jl\n",
    "\n",
    "\"\"\"\"\"\n",
    "\n",
    "using DataFrames\n",
    "using CSV\n",
    "using Query\n",
    "using JDF"
   ]
  },
  {
   "cell_type": "code",
   "execution_count": null,
   "id": "8c0c70f4",
   "metadata": {},
   "outputs": [],
   "source": [
    "\"\"\"\"\n",
    "# Biodiversity dynamics \n",
    "# Exploring the population of Bayesian graphs obtained from Robhoot.1.0.0 \n",
    "# Update init.jl with the EvoDynamics.jl package using the Bayesian graph\n",
    "# init.jl initialization file input data --> initialization.yml \n",
    "# Compare sustainability metrics with and without maturation age dynamics\n",
    "\"\"\"\"\n"
   ]
  }
 ],
 "metadata": {
  "kernelspec": {
   "display_name": "Julia (4 threads) 1.7.1",
   "language": "julia",
   "name": "julia-(4-threads)-1.7"
  },
  "language_info": {
   "codemirror_mode": {
    "name": "ipython",
    "version": 3
   },
   "file_extension": ".py",
   "mimetype": "text/x-python",
   "name": "python",
   "nbconvert_exporter": "python",
   "pygments_lexer": "ipython3",
   "version": "3.10.6"
  }
 },
 "nbformat": 4,
 "nbformat_minor": 5
}
