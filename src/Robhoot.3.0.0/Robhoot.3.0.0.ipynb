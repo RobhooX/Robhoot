{
 "cells": [
  {
   "cell_type": "code",
   "execution_count": null,
   "id": "783f560f",
   "metadata": {},
   "outputs": [],
   "source": [
    "\"\"\"\"\n",
    "# Robhoot.3.0.0\n",
    "# Julia Install packages \n",
    "# Version 1.7.1 (2021-12-22)\n",
    "# Official https://julialang.org/ release\n",
    "\n",
    "# XAI modeling\n",
    "# flux.jl \n",
    "\n",
    "\"\"\"\"\"\n",
    "\n",
    "using DataFrames\n",
    "using CSV\n",
    "using Query\n",
    "using JDF"
   ]
  },
  {
   "cell_type": "code",
   "execution_count": null,
   "id": "5449c359",
   "metadata": {},
   "outputs": [],
   "source": [
    "\"\"\"\"\n",
    "# Robhoot.3.0.0\n",
    "# XAI: Connect the biodiversity dynamics with deep learning networks  \n",
    "# EXAMPLE: modeling trait-maturation age to overexploitation using a deep learning network \n",
    "# Explore max sustainability min inequality functions\n",
    "\"\"\"\"\n",
    "\n"
   ]
  }
 ],
 "metadata": {
  "kernelspec": {
   "display_name": "Julia (4 threads) 1.7.1",
   "language": "julia",
   "name": "julia-(4-threads)-1.7"
  },
  "language_info": {
   "codemirror_mode": {
    "name": "ipython",
    "version": 3
   },
   "file_extension": ".py",
   "mimetype": "text/x-python",
   "name": "python",
   "nbconvert_exporter": "python",
   "pygments_lexer": "ipython3",
   "version": "3.10.6"
  }
 },
 "nbformat": 4,
 "nbformat_minor": 5
}
