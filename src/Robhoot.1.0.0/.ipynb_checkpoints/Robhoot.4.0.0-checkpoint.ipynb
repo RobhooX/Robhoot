{
 "cells": [
  {
   "cell_type": "code",
   "execution_count": null,
   "id": "783f560f",
   "metadata": {},
   "outputs": [],
   "source": [
    "\"\"\"\"\n",
    "# Robhoot.4.0.0\n",
    "#Renku\n",
    "\n",
    "\"\"\"\"\""
   ]
  },
  {
   "cell_type": "code",
   "execution_count": null,
   "id": "bc7cc7bb",
   "metadata": {},
   "outputs": [],
   "source": [
    "\"\"\"\"\n",
    "# Robhoot 4.0.0\n",
    "# Knowledge graph via Renku integrating Robhoot 1.0.0 to Robhoot 3.0.0\n",
    "# https://renkulab.io/\n",
    "\"\"\"\"\n"
   ]
  }
 ],
 "metadata": {
  "kernelspec": {
   "display_name": "Julia (4 threads) 1.7.1",
   "language": "julia",
   "name": "julia-(4-threads)-1.7"
  },
  "language_info": {
   "codemirror_mode": {
    "name": "ipython",
    "version": 3
   },
   "file_extension": ".py",
   "mimetype": "text/x-python",
   "name": "python",
   "nbconvert_exporter": "python",
   "pygments_lexer": "ipython3",
   "version": "3.10.6"
  }
 },
 "nbformat": 4,
 "nbformat_minor": 5
}
